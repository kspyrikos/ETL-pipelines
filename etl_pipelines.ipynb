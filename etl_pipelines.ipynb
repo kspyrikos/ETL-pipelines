{
 "cells": [
  {
   "cell_type": "code",
   "execution_count": 7,
   "id": "6c353e0a-d7a0-497e-b2c9-0b1e5c08df52",
   "metadata": {},
   "outputs": [],
   "source": [
    "import pandas as pd\n",
    "import boto3\n",
    "from io import StringIO, BytesIO\n",
    "from datetime import datetime, timedelta\n",
    "import warnings\n",
    "warnings.filterwarnings(\"ignore\")"
   ]
  },
  {
   "cell_type": "markdown",
   "id": "bd4f2dcb-1b46-4a84-93ca-b29a184cdcc6",
   "metadata": {},
   "source": [
    "# Adapter Layer"
   ]
  },
  {
   "cell_type": "code",
   "execution_count": 8,
   "id": "82e33476-ac37-4faf-9790-7bf92dfbdc95",
   "metadata": {
    "scrolled": true
   },
   "outputs": [],
   "source": [
    "def read_csv_to_df(bucket, key, decoding = 'utf-8', sep=','):\n",
    "    csv_obj = bucket.Object(key=key).get().get('Body').read().decode(decoding)\n",
    "    data = StringIO(csv_obj)\n",
    "    df = pd.read_csv(data, delimiter=sep)\n",
    "    return df\n",
    "\n",
    "def write_df_to_s3(bucket, df, key):\n",
    "    out_buffer = BytesIO()\n",
    "    df.to_parquet(out_buffer, index = False)\n",
    "    bucket.put_object(Body=out_buffer.getvalue(), Key=key)\n",
    "    return True\n",
    "\n",
    "def return_objects(bucket, arg_date, src_format):\n",
    "    min_date = datetime.strptime(arg_date, src_format).date() - timedelta(days=1)\n",
    "    max_date =  datetime.strptime(arg_date, src_format).date() + timedelta(days=7) # I get the data of one week (7 days)\n",
    "    objects = [obj for obj in bucket.objects.all() if datetime.strptime(obj.key.split('/')[0], src_format).date() >= min_date and datetime.strptime(obj.key.split('/')[0], src_format).date() < max_date] #filter objects of the bucket\n",
    "    #print(objects)\n",
    "    return objects   "
   ]
  },
  {
   "cell_type": "markdown",
   "id": "0d78f798-8d6c-4388-8706-18d8541254c9",
   "metadata": {},
   "source": [
    "# Application Layer"
   ]
  },
  {
   "cell_type": "code",
   "execution_count": 16,
   "id": "94dde3ac-aa85-4d15-8cbb-1112b37c711e",
   "metadata": {},
   "outputs": [],
   "source": [
    "def extract(bucket, objects):\n",
    "    df = pd.concat([read_csv_to_df(bucket, obj.key) for obj in objects], ignore_index = True)\n",
    "    return df\n",
    "    \n",
    "def transform_report1(df, columns, arg_date):\n",
    "    df = df.loc[:, columns]\n",
    "    df.dropna(inplace = True)\n",
    "    df['opening_price'] = df.sort_values(by=['Time']).groupby(['ISIN','Date'])['StartPrice'].transform('first')\n",
    "    df['closing_price'] = df.sort_values(by=['Time']).groupby(['ISIN','Date'])['EndPrice'].transform('last')\n",
    "    df = df.groupby(['ISIN', 'Date'], as_index = False).agg(opening_price_eur=('opening_price', 'min'), closing_price_eur=('closing_price', 'min'), minimum_price_eur=('MinPrice', 'min'), maximum_price_eur=('MaxPrice', 'max'), daily_traded_volume=('TradedVolume', 'sum'))\n",
    "    df['prev_closing_price'] = df.sort_values(by=['Date']).groupby(['ISIN'])['closing_price_eur'].shift(1)\n",
    "    df['change_prev_closing_%'] = (df['closing_price_eur'] - df['prev_closing_price']) / df['prev_closing_price']*100\n",
    "    df.drop(columns=['prev_closing_price'], inplace=True)\n",
    "    df = df.round(decimals = 2)\n",
    "    df = df[df.Date >= arg_date] # we filter from the arg_date forward\n",
    "    return df\n",
    "\n",
    "def load(bucket, df, trg_key, trg_format):\n",
    "    key = trg_key + datetime.today().strftime(\"%Y%m%d_%H%m%S\") + trg_format\n",
    "    write_df_to_s3(bucket, df, key)\n",
    "\n",
    "def etl_report1(src_bucket, trg_bucket, objects, columns, arg_date, trg_key, trg_format):\n",
    "    df = extract(src_bucket, objects)\n",
    "    df = transform_report1(df, columns, arg_date)\n",
    "    load(trg_bucket, df, trg_key, trg_format)\n",
    "    return True"
   ]
  },
  {
   "cell_type": "markdown",
   "id": "929b3aa2-0cff-4cf9-a447-4d6dc11ff4fe",
   "metadata": {},
   "source": [
    "# Main function entrypoints"
   ]
  },
  {
   "cell_type": "code",
   "execution_count": 18,
   "id": "13a630ae-ee8b-4aad-82c6-85ffe258c4c7",
   "metadata": {},
   "outputs": [],
   "source": [
    "def main():\n",
    "    # Parameters/Configurations\n",
    "    # Later read config\n",
    "    arg_date = '2022-01-04'\n",
    "    src_format = '%Y-%m-%d'\n",
    "    src_bucket = 'xetra-1234'\n",
    "    trg_bucket = 'etl-pipelines-kspyrikos'\n",
    "    columns = ['ISIN', 'Date', 'Time', 'StartPrice', 'MaxPrice', 'MinPrice', 'EndPrice', 'TradedVolume']\n",
    "    trg_key = 'report_'\n",
    "    trg_format = '.parquet'\n",
    "\n",
    "    # Init\n",
    "    s3 = boto3.resource('s3')\n",
    "    bucket_src = s3.Bucket(src_bucket)\n",
    "    bucket_trg = s3.Bucket(trg_bucket)\n",
    "   \n",
    "    # Run Application\n",
    "    objects = return_objects(bucket_src, arg_date, src_format)\n",
    "    etl_report1(bucket_src, bucket_trg, objects, columns, arg_date, trg_key, trg_format)"
   ]
  },
  {
   "cell_type": "markdown",
   "id": "11b3dd20-b193-457f-840e-3a94104b542b",
   "metadata": {},
   "source": [
    "# Run\n"
   ]
  },
  {
   "cell_type": "code",
   "execution_count": 19,
   "id": "c9963c56-991f-4417-ba76-9660aa069635",
   "metadata": {},
   "outputs": [],
   "source": [
    "main()"
   ]
  },
  {
   "cell_type": "markdown",
   "id": "772b45cc-adc4-48dc-98a8-854bf272f9bb",
   "metadata": {},
   "source": [
    "# Read the uploaded file"
   ]
  },
  {
   "cell_type": "code",
   "execution_count": 20,
   "id": "c6906da4-e4ca-4888-9623-5cf1155e03c7",
   "metadata": {},
   "outputs": [
    {
     "name": "stdout",
     "output_type": "stream",
     "text": [
      "report_20231118_191119.parquet\n",
      "report_20231118_221156.parquet\n"
     ]
    }
   ],
   "source": [
    "trg_bucket = 'etl-pipelines-kspyrikos'\n",
    "s3 = boto3.resource('s3')\n",
    "bucket_trg = s3.Bucket(trg_bucket)\n",
    "   \n",
    "for obj in bucket_trg.objects.all():\n",
    "    print(obj.key)"
   ]
  },
  {
   "cell_type": "code",
   "execution_count": 27,
   "id": "f7cf9bef-0a9e-4615-88ae-d13e5ea42bb7",
   "metadata": {},
   "outputs": [
    {
     "data": {
      "text/plain": [
       "'report_20231118_221156.parquet'"
      ]
     },
     "execution_count": 27,
     "metadata": {},
     "output_type": "execute_result"
    }
   ],
   "source": [
    "obj.key"
   ]
  },
  {
   "cell_type": "code",
   "execution_count": 28,
   "id": "91729dd8-353e-4bfe-99b1-bed374c3a306",
   "metadata": {},
   "outputs": [
    {
     "data": {
      "text/html": [
       "<div>\n",
       "<style scoped>\n",
       "    .dataframe tbody tr th:only-of-type {\n",
       "        vertical-align: middle;\n",
       "    }\n",
       "\n",
       "    .dataframe tbody tr th {\n",
       "        vertical-align: top;\n",
       "    }\n",
       "\n",
       "    .dataframe thead th {\n",
       "        text-align: right;\n",
       "    }\n",
       "</style>\n",
       "<table border=\"1\" class=\"dataframe\">\n",
       "  <thead>\n",
       "    <tr style=\"text-align: right;\">\n",
       "      <th></th>\n",
       "      <th>ISIN</th>\n",
       "      <th>Date</th>\n",
       "      <th>opening_price_eur</th>\n",
       "      <th>closing_price_eur</th>\n",
       "      <th>minimum_price_eur</th>\n",
       "      <th>maximum_price_eur</th>\n",
       "      <th>daily_traded_volume</th>\n",
       "      <th>change_prev_closing_%</th>\n",
       "    </tr>\n",
       "  </thead>\n",
       "  <tbody>\n",
       "    <tr>\n",
       "      <th>0</th>\n",
       "      <td>AT000000STR1</td>\n",
       "      <td>2022-01-04</td>\n",
       "      <td>37.75</td>\n",
       "      <td>37.85</td>\n",
       "      <td>37.75</td>\n",
       "      <td>37.85</td>\n",
       "      <td>27</td>\n",
       "      <td>1.20</td>\n",
       "    </tr>\n",
       "    <tr>\n",
       "      <th>1</th>\n",
       "      <td>AT000000STR1</td>\n",
       "      <td>2022-01-05</td>\n",
       "      <td>37.70</td>\n",
       "      <td>37.20</td>\n",
       "      <td>37.20</td>\n",
       "      <td>37.70</td>\n",
       "      <td>800</td>\n",
       "      <td>-1.72</td>\n",
       "    </tr>\n",
       "    <tr>\n",
       "      <th>2</th>\n",
       "      <td>AT000000STR1</td>\n",
       "      <td>2022-01-06</td>\n",
       "      <td>36.60</td>\n",
       "      <td>37.30</td>\n",
       "      <td>36.60</td>\n",
       "      <td>37.30</td>\n",
       "      <td>140</td>\n",
       "      <td>0.27</td>\n",
       "    </tr>\n",
       "    <tr>\n",
       "      <th>3</th>\n",
       "      <td>AT000000STR1</td>\n",
       "      <td>2022-01-07</td>\n",
       "      <td>36.85</td>\n",
       "      <td>37.35</td>\n",
       "      <td>36.85</td>\n",
       "      <td>37.35</td>\n",
       "      <td>475</td>\n",
       "      <td>0.13</td>\n",
       "    </tr>\n",
       "    <tr>\n",
       "      <th>4</th>\n",
       "      <td>AT000000STR1</td>\n",
       "      <td>2022-01-10</td>\n",
       "      <td>37.40</td>\n",
       "      <td>36.60</td>\n",
       "      <td>36.50</td>\n",
       "      <td>37.40</td>\n",
       "      <td>64</td>\n",
       "      <td>-2.01</td>\n",
       "    </tr>\n",
       "    <tr>\n",
       "      <th>...</th>\n",
       "      <td>...</td>\n",
       "      <td>...</td>\n",
       "      <td>...</td>\n",
       "      <td>...</td>\n",
       "      <td>...</td>\n",
       "      <td>...</td>\n",
       "      <td>...</td>\n",
       "      <td>...</td>\n",
       "    </tr>\n",
       "    <tr>\n",
       "      <th>15949</th>\n",
       "      <td>XS2376095068</td>\n",
       "      <td>2022-01-04</td>\n",
       "      <td>41.19</td>\n",
       "      <td>41.36</td>\n",
       "      <td>41.19</td>\n",
       "      <td>41.36</td>\n",
       "      <td>0</td>\n",
       "      <td>0.77</td>\n",
       "    </tr>\n",
       "    <tr>\n",
       "      <th>15950</th>\n",
       "      <td>XS2376095068</td>\n",
       "      <td>2022-01-05</td>\n",
       "      <td>40.99</td>\n",
       "      <td>41.02</td>\n",
       "      <td>40.77</td>\n",
       "      <td>41.02</td>\n",
       "      <td>250</td>\n",
       "      <td>-0.81</td>\n",
       "    </tr>\n",
       "    <tr>\n",
       "      <th>15951</th>\n",
       "      <td>XS2376095068</td>\n",
       "      <td>2022-01-06</td>\n",
       "      <td>38.15</td>\n",
       "      <td>37.85</td>\n",
       "      <td>37.85</td>\n",
       "      <td>38.15</td>\n",
       "      <td>7</td>\n",
       "      <td>-7.73</td>\n",
       "    </tr>\n",
       "    <tr>\n",
       "      <th>15952</th>\n",
       "      <td>XS2376095068</td>\n",
       "      <td>2022-01-07</td>\n",
       "      <td>36.86</td>\n",
       "      <td>36.71</td>\n",
       "      <td>36.71</td>\n",
       "      <td>37.41</td>\n",
       "      <td>2541</td>\n",
       "      <td>-3.02</td>\n",
       "    </tr>\n",
       "    <tr>\n",
       "      <th>15953</th>\n",
       "      <td>XS2376095068</td>\n",
       "      <td>2022-01-10</td>\n",
       "      <td>37.07</td>\n",
       "      <td>36.77</td>\n",
       "      <td>36.44</td>\n",
       "      <td>37.07</td>\n",
       "      <td>2564</td>\n",
       "      <td>0.16</td>\n",
       "    </tr>\n",
       "  </tbody>\n",
       "</table>\n",
       "<p>15954 rows × 8 columns</p>\n",
       "</div>"
      ],
      "text/plain": [
       "               ISIN        Date  opening_price_eur  closing_price_eur  \\\n",
       "0      AT000000STR1  2022-01-04              37.75              37.85   \n",
       "1      AT000000STR1  2022-01-05              37.70              37.20   \n",
       "2      AT000000STR1  2022-01-06              36.60              37.30   \n",
       "3      AT000000STR1  2022-01-07              36.85              37.35   \n",
       "4      AT000000STR1  2022-01-10              37.40              36.60   \n",
       "...             ...         ...                ...                ...   \n",
       "15949  XS2376095068  2022-01-04              41.19              41.36   \n",
       "15950  XS2376095068  2022-01-05              40.99              41.02   \n",
       "15951  XS2376095068  2022-01-06              38.15              37.85   \n",
       "15952  XS2376095068  2022-01-07              36.86              36.71   \n",
       "15953  XS2376095068  2022-01-10              37.07              36.77   \n",
       "\n",
       "       minimum_price_eur  maximum_price_eur  daily_traded_volume  \\\n",
       "0                  37.75              37.85                   27   \n",
       "1                  37.20              37.70                  800   \n",
       "2                  36.60              37.30                  140   \n",
       "3                  36.85              37.35                  475   \n",
       "4                  36.50              37.40                   64   \n",
       "...                  ...                ...                  ...   \n",
       "15949              41.19              41.36                    0   \n",
       "15950              40.77              41.02                  250   \n",
       "15951              37.85              38.15                    7   \n",
       "15952              36.71              37.41                 2541   \n",
       "15953              36.44              37.07                 2564   \n",
       "\n",
       "       change_prev_closing_%  \n",
       "0                       1.20  \n",
       "1                      -1.72  \n",
       "2                       0.27  \n",
       "3                       0.13  \n",
       "4                      -2.01  \n",
       "...                      ...  \n",
       "15949                   0.77  \n",
       "15950                  -0.81  \n",
       "15951                  -7.73  \n",
       "15952                  -3.02  \n",
       "15953                   0.16  \n",
       "\n",
       "[15954 rows x 8 columns]"
      ]
     },
     "execution_count": 28,
     "metadata": {},
     "output_type": "execute_result"
    }
   ],
   "source": [
    "prq_obj = bucket_trg.Object(key=obj.key).get().get('Body').read()\n",
    "data = BytesIO(prq_obj)\n",
    "df_report = pd.read_parquet(data) # I can use 'read_parquet', because I used 'BytesIO'\n",
    "df_report"
   ]
  },
  {
   "cell_type": "code",
   "execution_count": null,
   "id": "c4aea95d-9a2a-403d-a427-4b7128d1fd90",
   "metadata": {},
   "outputs": [],
   "source": []
  },
  {
   "cell_type": "code",
   "execution_count": null,
   "id": "0970b648-2b69-49f0-9e4d-f6e5ae1cdd8c",
   "metadata": {},
   "outputs": [],
   "source": []
  },
  {
   "cell_type": "code",
   "execution_count": null,
   "id": "8c7846c2-6f40-4a0f-9dd3-6714c95b4dc8",
   "metadata": {},
   "outputs": [],
   "source": []
  },
  {
   "cell_type": "markdown",
   "id": "fcc173c1-df0f-4b09-9067-a0c02683f0ce",
   "metadata": {},
   "source": [
    "# Functional solution"
   ]
  },
  {
   "cell_type": "code",
   "execution_count": null,
   "id": "e278fc11-cad6-4c12-9e57-29f0b941e57d",
   "metadata": {},
   "outputs": [],
   "source": [
    "arg_date = '2022-01-04'\n",
    "arg_date_dt = datetime.strptime(arg_date, '%Y-%m-%d').date() - timedelta(days=1)\n",
    "\n",
    "s3 = boto3.resource('s3')\n",
    "\n",
    "bucket = s3.Bucket('xetra-1234')\n",
    "\n",
    "bucket_obj1 = bucket.objects.filter(Prefix='dataset/2021-03-15/')\n",
    "bucket_obj2 = bucket.objects.filter(Prefix='dataset/2021-03-16/')\n",
    "\n",
    "#desired_dates = ['2022-01-03', '2022-01-04']\n"
   ]
  },
  {
   "cell_type": "code",
   "execution_count": null,
   "id": "4cb178ec-ce0a-4695-b705-40b6280550f6",
   "metadata": {
    "scrolled": true
   },
   "outputs": [],
   "source": [
    "objects = [obj for obj in bucket.objects.all() if datetime.strptime(obj.key.split('/')[0], '%Y-%m-%d').date() >= arg_date_dt] #filter objects of the bucket\n",
    "objects"
   ]
  },
  {
   "cell_type": "code",
   "execution_count": null,
   "id": "aaf1c404-ab52-4e58-aa88-6d30f087ff0d",
   "metadata": {
    "scrolled": true
   },
   "outputs": [],
   "source": [
    "csv_obj_init = bucket.Object(key=objects[0].key).get().get('Body').read().decode('utf-8')\n",
    "data = StringIO(csv_obj_init)\n",
    "df_init = pd.read_csv(data, delimiter=',')\n",
    "bucket"
   ]
  },
  {
   "cell_type": "markdown",
   "id": "c4c3c3a7-4338-4e7a-bc2b-af08f2a112af",
   "metadata": {},
   "source": [
    "# Read multiple files"
   ]
  },
  {
   "cell_type": "code",
   "execution_count": null,
   "id": "37ba35c4-e483-4306-b5ef-203fbea6a6ad",
   "metadata": {},
   "outputs": [],
   "source": [
    "df_all = pd.DataFrame(columns=df_init.columns)\n",
    "for obj in bucket.objects.all():\n",
    "    #for date in desired_dates:\n",
    "    if date in obj.key:\n",
    "        csv_obj = bucket.Object(key=obj.key).get().get('Body').read().decode('utf-8')\n",
    "        data = StringIO(csv_obj)\n",
    "        df = pd.read_csv(data, delimiter=',')\n",
    "        df_all = pd.concat([df_all, df], ignore_index=True, sort=False).dropna(axis=1, how='all')\n",
    "df_all"
   ]
  },
  {
   "cell_type": "code",
   "execution_count": null,
   "id": "57949b93-7ef0-4166-9c8e-be6c78d6dccf",
   "metadata": {},
   "outputs": [],
   "source": [
    "columns = ['ISIN', 'Date', 'Time', 'StartPrice', 'MaxPrice', 'MinPrice','EndPrice', 'TradedVolume']\n",
    "df_all = df_all.loc[:, columns]\n",
    "df_all"
   ]
  },
  {
   "cell_type": "code",
   "execution_count": null,
   "id": "ca313303-0587-4e07-bdb3-b4eca2b190e1",
   "metadata": {},
   "outputs": [],
   "source": [
    "df_all.dropna(inplace=True)\n",
    "df_all"
   ]
  },
  {
   "cell_type": "markdown",
   "id": "17953f92-1421-4615-b950-ade256f62eb5",
   "metadata": {},
   "source": [
    "# Transformations"
   ]
  },
  {
   "cell_type": "markdown",
   "id": "697b89d8-483c-4bb0-9942-bdf2d43332e8",
   "metadata": {},
   "source": [
    "## Get opening price per ISIN and day"
   ]
  },
  {
   "cell_type": "code",
   "execution_count": null,
   "id": "0379d91e-8d9c-48a2-939a-a70c8687441e",
   "metadata": {},
   "outputs": [],
   "source": [
    "df_all['opening_price'] = df_all.sort_values(by=['Time']).groupby(['ISIN','Date'])['StartPrice'].transform('first')\n",
    "df_all"
   ]
  },
  {
   "cell_type": "code",
   "execution_count": null,
   "id": "c871dbe4-2874-4c5a-b0c5-6d3756d4dd96",
   "metadata": {},
   "outputs": [],
   "source": [
    "df_all[df_all['ISIN']=='DE000A0HN5C6']"
   ]
  },
  {
   "cell_type": "markdown",
   "id": "e5576d0e-1ceb-44c3-a3ce-33f39096c907",
   "metadata": {},
   "source": [
    "## Get closing price per ISIN and day"
   ]
  },
  {
   "cell_type": "code",
   "execution_count": null,
   "id": "6ca316b6-de08-414d-8d6f-5cfe5e6b8d29",
   "metadata": {},
   "outputs": [],
   "source": [
    "df_all['closing_price'] = df_all.sort_values(by=['Time']).groupby(['ISIN','Date'])['EndPrice'].transform('last')\n",
    "df_all"
   ]
  },
  {
   "cell_type": "markdown",
   "id": "ec7b31f4-ffd4-466b-8165-9bb9cf3f528c",
   "metadata": {},
   "source": [
    "## Aggregations"
   ]
  },
  {
   "cell_type": "code",
   "execution_count": null,
   "id": "84e5feeb-0d8e-4119-9532-b02b162430e0",
   "metadata": {},
   "outputs": [],
   "source": [
    "df_all = df_all.groupby(['ISIN', 'Date'], as_index = False).agg(opening_price_eur=('opening_price', 'min'), closing_price_eur=('closing_price', 'min'), minimum_price_eur=('MinPrice', 'min'), maximum_price_eur=('MaxPrice', 'max'), daily_traded_volume=('TradedVolume', 'sum'))\n",
    "df_all"
   ]
  },
  {
   "cell_type": "markdown",
   "id": "e79418ce-c8f2-4f1b-bef3-b47d9c9d16a8",
   "metadata": {},
   "source": [
    "## Percent Change Prev Closing"
   ]
  },
  {
   "cell_type": "code",
   "execution_count": null,
   "id": "234e8322-40b0-47ff-a391-b666d323dcde",
   "metadata": {},
   "outputs": [],
   "source": [
    "df_all['prev_closing_price'] = df_all.sort_values(by=['Date']).groupby(['ISIN'])['closing_price_eur'].shift(1)\n",
    "df_all"
   ]
  },
  {
   "cell_type": "code",
   "execution_count": null,
   "id": "b103ff23-d49f-40e7-b024-9982aaacf987",
   "metadata": {},
   "outputs": [],
   "source": [
    "df_all['change_prev_closing_%'] = (df_all['closing_price_eur'] - df_all['prev_closing_price']) / df_all['prev_closing_price']*100\n",
    "df_all.drop(columns=['prev_closing_price'], inplace=True)\n",
    "df_all = df_all.round(decimals = 2)\n",
    "df_all = df_all[df_all.Date >= arg_date] # we filter from the arg_date forward\n",
    "df_all"
   ]
  },
  {
   "cell_type": "markdown",
   "id": "e330765e-7c2d-4f70-82c5-065e7e73f375",
   "metadata": {},
   "source": [
    "# Write to S3"
   ]
  },
  {
   "cell_type": "code",
   "execution_count": null,
   "id": "8b75a26a-9a5b-448a-b534-e701baf959bb",
   "metadata": {},
   "outputs": [],
   "source": [
    "key = 'report_'+ datetime.today().strftime(\"%Y%m%d_%H%m%S\")+'.parquet'\n",
    "out_buffer = BytesIO()\n",
    "df_all.to_parquet(out_buffer, index = False)\n",
    "bucket_target = s3.Bucket('etl-pipelines-kspyrikos')\n",
    "bucket_target.put_object(Body=out_buffer.getvalue(), Key=key)"
   ]
  },
  {
   "cell_type": "markdown",
   "id": "f04ef860-6699-4982-82e5-8e80268a3423",
   "metadata": {},
   "source": [
    "## Read the uploaded file"
   ]
  },
  {
   "cell_type": "code",
   "execution_count": null,
   "id": "813ced90-be66-43b1-9e42-8b138c058386",
   "metadata": {},
   "outputs": [],
   "source": [
    "for obj in bucket_target.objects.all():\n",
    "    print(obj.key)"
   ]
  },
  {
   "cell_type": "code",
   "execution_count": null,
   "id": "65a0beb3-8b6e-42a3-9472-e0f4f7384361",
   "metadata": {},
   "outputs": [],
   "source": [
    "prq_obj = bucket_target.Object(key='report_20231118_191119.parquet').get().get('Body').read()\n",
    "data = BytesIO(prq_obj)\n",
    "df_report = pd.read_parquet(data) # I can use 'read_parquet', because I used 'BytesIO'\n",
    "df_report"
   ]
  },
  {
   "cell_type": "code",
   "execution_count": null,
   "id": "76f1f509-de57-4c34-bcfb-3ca3c743c845",
   "metadata": {},
   "outputs": [],
   "source": []
  }
 ],
 "metadata": {
  "kernelspec": {
   "display_name": "Python 3 (ipykernel)",
   "language": "python",
   "name": "python3"
  },
  "language_info": {
   "codemirror_mode": {
    "name": "ipython",
    "version": 3
   },
   "file_extension": ".py",
   "mimetype": "text/x-python",
   "name": "python",
   "nbconvert_exporter": "python",
   "pygments_lexer": "ipython3",
   "version": "3.9.7"
  }
 },
 "nbformat": 4,
 "nbformat_minor": 5
}
